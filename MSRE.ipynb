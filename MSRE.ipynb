{
 "cells": [
  {
   "cell_type": "markdown",
   "id": "a28f447d-a699-4495-bf71-bace1a4c0833",
   "metadata": {
    "tags": []
   },
   "source": [
    "# Notebook for running MSRE calculations directly from a CAD drawing\n",
    "This notebook show an example of running computations of a model of the Moten Salt Reactor Experiment of MSRE in short.\n",
    "The model itself has been generated from tehe original drawings from Oak Ridge National lab \n",
    "\n",
    "The CAD-model is available on github at https://github.com/openmsr/msre, which in turn is generated from a long list of documents which have been compiled at https://github.com/openmsr/msr-archive\n",
    "\n",
    "The simulation backend is run using the Open Source Monte Carlo particle transport code OpenMC (https://openmc.org), through its' python interface.\n",
    "\n",
    "**Important: If you want your work to be available after you shutdown the docker, you must copy your notebooks to a location mounted on your local machine.**\n",
    "\n",
    "If you started the docker using the supplied ```run_docker.sh```-script, the ```notebooks```-directory has been mounted like this."
   ]
  },
  {
   "cell_type": "markdown",
   "id": "fb624881-ed0a-4962-b528-fb1ee5141f35",
   "metadata": {},
   "source": [
    "## The (obvious) 1st step is to import the OpenMC python interface"
   ]
  },
  {
   "cell_type": "code",
   "execution_count": null,
   "id": "85306562-ad94-4072-9cd4-1734fc7b0ab0",
   "metadata": {},
   "outputs": [],
   "source": [
    "import openmc"
   ]
  },
  {
   "cell_type": "markdown",
   "id": "51730852-f7a5-4491-8b1d-de7609dce96f",
   "metadata": {},
   "source": [
    "Next we define a set of materials objects that form the core of the MSRE, graphite,  hastelloy N / inor-8, inconel, the fuel salt, and helium. Lastly these are exported to am OpenMC-xml control file."
   ]
  },
  {
   "cell_type": "code",
   "execution_count": null,
   "id": "6df036db-7b00-4a73-a4e0-dd9a407d7395",
   "metadata": {},
   "outputs": [],
   "source": [
    "graphite=openmc.Material(name='graphite')\n",
    "graphite.add_element('C',1.0,'ao')\n",
    "graphite.set_density('g/cc',2.26)\n",
    "\n",
    "#Hastelloy N / INOR-8 nominal material composition from\n",
    "#ORNL-TM-4189\n",
    "inor=openmc.Material(name='inor')\n",
    "inor.add_element('Ni',0.72)\n",
    "inor.add_element('Mo',0.16)\n",
    "inor.add_element('Cr',0.07)\n",
    "inor.add_element('Fe',0.05)\n",
    "inor.set_density('g/cc',9)\n",
    "\n",
    "# LiF,BeF2,UF4,ZrF4 [0.67,0.23,0.05,0.0079] mol % @ 33% enrichment \n",
    "molar_comp={'LiF':0.67,'BeF2':0.23, 'ZrF4':0.05, 'UF4':0.0079}\n",
    "enrichment=0.5\n",
    "salt=openmc.Material(name='salt')\n",
    "salt.add_element('F',molar_comp['LiF']*1/2+molar_comp['BeF2']*2/3+molar_comp['ZrF4']*4/5+molar_comp['UF4']*4/5,'ao')\n",
    "salt.add_nuclide('Li7',molar_comp['LiF']*1/2,'ao')\n",
    "salt.add_element('Be',molar_comp['BeF2']*1/3,'ao')\n",
    "salt.add_element('Zr',molar_comp['ZrF4']*1/5,'ao')\n",
    "salt.add_nuclide('U235',enrichment*molar_comp['UF4']*1/5,'ao')\n",
    "salt.add_nuclide('U238',(1-enrichment)*molar_comp['UF4']*1/5,'ao')\n",
    "salt.set_density('g/cc',2.2)\n",
    "\n",
    "# The natural isotopes have been used for this alloy\n",
    "# The density is set to that of Ni.\n",
    "inconel=openmc.Material(name='inconel')\n",
    "inconel.add_element('Ni',0.72,'ao')\n",
    "inconel.add_element('Cr',0.20,'ao')\n",
    "inconel.add_element('Fe',0.08,'ao')\n",
    "inconel.set_density('g/cc',8.9)\n",
    "\n",
    "helium=openmc.Material(name='helium')\n",
    "helium.add_nuclide('He4',1.0,'ao')\n",
    "helium.set_density('g/cc',1.0e-4)\n",
    "\n",
    "materials=openmc.Materials([helium_comp,salt,salt2,graphite,inconel,inor])\n",
    "materials.export_to_xml()"
   ]
  },
  {
   "cell_type": "markdown",
   "id": "3e21759c-4d3f-44f4-8b61-eb1a519d7d68",
   "metadata": {},
   "source": [
    "As a control we can inspect the materials object. Notice how OpenMC has in the revant cases expanded our material definition to consist the naturally occurring  isotope concentrations."
   ]
  },
  {
   "cell_type": "code",
   "execution_count": null,
   "id": "82b7ea1e-28d6-450d-9bad-e5f5262c5272",
   "metadata": {},
   "outputs": [],
   "source": [
    "materials"
   ]
  },
  {
   "cell_type": "code",
   "execution_count": null,
   "id": "1a5f8f08-ec15-4ab4-b091-c3e0b2147490",
   "metadata": {},
   "outputs": [],
   "source": [
    "#geometry\n",
    "h5m_filepath=\"dagmc.h5m\"\n",
    "dag_univ = openmc.DAGMCUniverse(h5m_filepath)\n",
    "geom = openmc.Geometry(root=dag_univ)\n",
    "geom.export_to_xml()"
   ]
  },
  {
   "cell_type": "markdown",
   "id": "be73fe16-ea81-4efa-939f-3934bc5b77bc",
   "metadata": {},
   "source": [
    "We can now plot our geometry to verify that this is in fact the geometry we want. We plot two slices (xz and xy) through the centre of the MSRE core, and color the geometry by constituent material."
   ]
  },
  {
   "cell_type": "code",
   "execution_count": null,
   "id": "dde16460-008e-4e6f-ac81-32e82dd066d4",
   "metadata": {
    "tags": []
   },
   "outputs": [],
   "source": [
    "xwidth = 350\n",
    "yheight = 350\n",
    "material_colors={salt:'red', inor:'lightblue', inconel:'blue',helium:'white',graphite:'gray'}\n",
    "#xz plot\n",
    "p1 = openmc.Plot()\n",
    "p1.background='white'\n",
    "p1.basis = 'xz'\n",
    "p1.width = (xwidth,yheight)\n",
    "p1.origin=(0,0,125)\n",
    "p1.pixels = (800, 800)\n",
    "p1.color_by = 'material'\n",
    "p1.colors=material_colors\n",
    "#xy plot\n",
    "p2 = openmc.Plot()\n",
    "p2.background='white'\n",
    "p2.basis='xy'\n",
    "p2.width=(xwidth, yheight)\n",
    "p2.pixels = (800,800)\n",
    "p2.origin=(0,0,100)\n",
    "p2.color_by='material'\n",
    "p2.colors=material_colors\n",
    "\n",
    "plots=openmc.Plots([p1,p2])\n",
    "openmc.plot_inline(plots)"
   ]
  },
  {
   "cell_type": "markdown",
   "id": "8d02c4c6-2f47-44ac-989c-1ecaf9441450",
   "metadata": {},
   "source": [
    "Now we need to define som settings for our calculations.\n",
    "\n",
    "First of all - we need to some neutrons to kick-start or chain reaction. In OpenMC this is doen by defining a source region. Here this is simply defined as being a region that encloses the MSRE core.\n",
    "\n",
    "Next we define some settings for the Monte Carlo-computation, such as how many particles we would initially run with. \n",
    "\n",
    "After the members of the settings python object have been filled to our desires, we export this to a settings xml-file"
   ]
  },
  {
   "cell_type": "code",
   "execution_count": null,
   "id": "6a17a765-10dd-4666-9f66-2d7f7931bb3e",
   "metadata": {},
   "outputs": [],
   "source": [
    "# Create a neutron source for kick-starting\n",
    "source_volume=openmc.stats.Box([-125,-125,0],[125,125,500], only_fissionable=True)\n",
    "source = openmc.Source(space=source_volume)\n",
    "source.angle=openmc.stats.Isotropic()"
   ]
  },
  {
   "cell_type": "code",
   "execution_count": null,
   "id": "ee524ba8-d65f-48ab-8024-e05f3409a6ef",
   "metadata": {},
   "outputs": [],
   "source": [
    "#Finally we build a settings object for OpenMC where we define parameters for the run.\n",
    "settings = openmc.Settings()\n",
    "settings.source = source\n",
    "settings.batches = 20\n",
    "settings.inactive = 5\n",
    "settings.particles = 10000\n",
    "settings.export_to_xml()\n",
    "\n",
    "#This should likely be set to the anount of available threads.\n",
    "#settings.max_particles_in_flight=12\n",
    "openmc.run()"
   ]
  }
 ],
 "metadata": {
  "kernelspec": {
   "display_name": "Python 3 (ipykernel)",
   "language": "python",
   "name": "python3"
  },
  "language_info": {
   "codemirror_mode": {
    "name": "ipython",
    "version": 3
   },
   "file_extension": ".py",
   "mimetype": "text/x-python",
   "name": "python",
   "nbconvert_exporter": "python",
   "pygments_lexer": "ipython3",
   "version": "3.9.2"
  }
 },
 "nbformat": 4,
 "nbformat_minor": 5
}
